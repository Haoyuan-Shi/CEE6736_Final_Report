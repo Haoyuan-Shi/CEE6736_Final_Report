{
 "cells": [
  {
   "cell_type": "code",
   "execution_count": null,
   "id": "bf821a7a",
   "metadata": {},
   "outputs": [],
   "source": [
    "from dolfin import *\n",
    "import numpy as np\n",
    "import matplotlib.pyplot as plt\n",
    "%matplotlib notebook\n",
    "import os\n",
    "import meshio\n",
    "import time\n",
    "import pygmsh\n",
    "import scipy.sparse\n",
    "from scipy import spatial\n",
    "from itertools import combinations_with_replacement, permutations, product\n",
    "import random"
   ]
  },
  {
   "cell_type": "code",
   "execution_count": null,
   "id": "fb0e66ba",
   "metadata": {},
   "outputs": [],
   "source": [
    "def Grid_generate():\n",
    "    matGrid =  [i for i in range(8)]\n",
    "    matNet = [(i,j) for (i,j) in combinations_with_replacement(matGrid, 2)]\n",
    "    holeGrid = [i for i in range(2,6)]\n",
    "    holeNet = [(i,j) for (i,j) in combinations_with_replacement(holeGrid, 2)]\n",
    "    for i in holeNet:\n",
    "        matNet.remove(i)\n",
    "    return matNet, holeNet"
   ]
  },
  {
   "cell_type": "code",
   "execution_count": null,
   "id": "51e3dd7b",
   "metadata": {},
   "outputs": [],
   "source": [
    "def Rand_properties():\n",
    "    matRan = [random.randint(0,1) for i in range(26)];\n",
    "    return matRan"
   ]
  },
  {
   "cell_type": "code",
   "execution_count": null,
   "id": "5b2ce532",
   "metadata": {},
   "outputs": [],
   "source": [
    "class KAPPA(UserExpression):\n",
    "    def eval(self, value, x):\n",
    "        tol = 1E-14\n",
    "        for iNet in range(26):\n",
    "            if matNet[iNet][1]*0.005 + tol <= x[1] <= matNet[iNet][1]*0.005 + 0.005 + tol and matNet[iNet][0]*0.005 + tol <= x[0] <= matNet[iNet][0]*0.005 + 0.005 + tol:\n",
    "                value[0] = [2242500, 148500][ran[iNet]]\n",
    "            if matNet[iNet][0]*0.005 + tol <= x[1] <= matNet[iNet][0]*0.005 + 0.005 + tol and matNet[iNet][1]*0.005 + tol <= x[0] <= matNet[iNet][1]*0.005 + 0.005 + tol:\n",
    "                value[0] = [2242500, 148500][ran[iNet]]\n",
    "        for iNet in holeNet:\n",
    "            if iNet[1]*0.005 + tol <= x[1] <= iNet[1]*0.005 + 0.005 + tol and iNet[0]*0.005 + tol <= x[0] <= iNet[0]*0.005 + 0.005 + tol:\n",
    "                value[0] = 2242500\n",
    "            if iNet[1]*0.005 + tol <= x[0] <= iNet[1]*0.005 + 0.005 + tol and iNet[0]*0.005 + tol <= x[1] <= iNet[0]*0.005 + 0.005 + tol:\n",
    "                value[0] = 2242500\n",
    "\n",
    "# Initialize kappa\n",
    "kappa = KAPPA(degree=0)"
   ]
  },
  {
   "cell_type": "code",
   "execution_count": null,
   "id": "9dceeec5",
   "metadata": {},
   "outputs": [],
   "source": [
    "class kei(UserExpression):\n",
    "    def eval(self, value, x):\n",
    "        tol = 1E-14\n",
    "        for iNet in range(26):\n",
    "            if matNet[iNet][1]*0.005 + tol <= x[1] <= matNet[iNet][1]*0.005 + 0.005 + tol and matNet[iNet][0]*0.005 + tol <= x[0] <= matNet[iNet][0]*0.005 + 0.005 + tol:\n",
    "                value[0] = [235, 95][ran[iNet]]\n",
    "            if matNet[iNet][1]*0.005 + tol <= x[0] <= matNet[iNet][1]*0.005 + 0.005 + tol and matNet[iNet][0]*0.005 + tol <= x[1] <= matNet[iNet][0]*0.005 + 0.005 + tol:\n",
    "                value[0] = [235, 95][ran[iNet]]\n",
    "        for iNet in holeNet:\n",
    "            if iNet[1]*0.005 + tol <= x[1] <= iNet[1]*0.005 + 0.005 + tol and iNet[0]*0.005 + tol <= x[0] <= iNet[0]*0.005 + 0.005 + tol:\n",
    "                value[0] = 235\n",
    "            if iNet[1]*0.005 + tol <= x[0] <= iNet[1]*0.005 + 0.005 + tol and iNet[0]*0.005 + tol <= x[1] <= iNet[0]*0.005 + 0.005 + tol:\n",
    "                value[0] = 235\n",
    "\n",
    "\n",
    "# Initialize kappa\n",
    "k = kei(degree=0)"
   ]
  },
  {
   "cell_type": "code",
   "execution_count": null,
   "id": "aea08d0c",
   "metadata": {},
   "outputs": [],
   "source": [
    "class muu(UserExpression):\n",
    "    def eval(self, value, x):\n",
    "        tol = 1E-14\n",
    "        for iNet in range(26):\n",
    "            if matNet[iNet][1]*0.005 + tol <= x[1] <= matNet[iNet][1]*0.005 + 0.005 + tol and matNet[iNet][0]*0.005 + tol <= x[0] <= matNet[iNet][0]*0.005 + 0.005 + tol:\n",
    "                value[0] = [26538461538.461536, 6923076923.076922][ran[iNet]]\n",
    "            if matNet[iNet][1]*0.005 + tol <= x[0] <= matNet[iNet][1]*0.005 + 0.005 + tol and matNet[iNet][0]*0.005 + tol <= x[1] <= matNet[iNet][0]*0.005 + 0.005 + tol:\n",
    "                value[0] = [26538461538.461536, 6923076923.076922][ran[iNet]]\n",
    "        for iNet in holeNet:\n",
    "            if iNet[1]*0.005 + tol <= x[1] <= iNet[1]*0.005 + 0.005 + tol and iNet[0]*0.005 + tol <= x[0] <= iNet[0]*0.005 + 0.005 + tol:\n",
    "                value[0] = 26538461538.461536\n",
    "            if iNet[1]*0.005 + tol <= x[0] <= iNet[1]*0.005 + 0.005 + tol and iNet[0]*0.005 + tol <= x[1] <= iNet[0]*0.005 + 0.005 + tol:\n",
    "                value[0] = 26538461538.461536\n",
    "\n",
    "# Initialize kappa\n",
    "mu = muu(degree=0)"
   ]
  },
  {
   "cell_type": "code",
   "execution_count": null,
   "id": "130259a0",
   "metadata": {},
   "outputs": [],
   "source": [
    "class lmbdaa(UserExpression):\n",
    "    def eval(self, value, x):\n",
    "        tol = 1E-14\n",
    "        for iNet in range(26):\n",
    "            if matNet[iNet][1]*0.005 + tol <= x[1] <= matNet[iNet][1]*0.005 + 0.005 + tol and matNet[iNet][0]*0.005 + tol <= x[0] <= matNet[iNet][0]*0.005 + 0.005 + tol:\n",
    "                value[0] = [39807692307.69231, 10384615384.615385][ran[iNet]]\n",
    "            if matNet[iNet][1]*0.005 + tol <= x[0] <= matNet[iNet][1]*0.005 + 0.005 + tol and matNet[iNet][0]*0.005 + tol <= x[1] <= matNet[iNet][0]*0.005 + 0.005 + tol:\n",
    "                value[0] = [39807692307.69231, 10384615384.615385][ran[iNet]]\n",
    "        for iNet in holeNet:\n",
    "            if iNet[1]*0.005 + tol <= x[1] <= iNet[1]*0.005 + 0.005 + tol and iNet[0]*0.005 + tol <= x[0] <= iNet[0]*0.005 + 0.005 + tol:\n",
    "                value[0] = 39807692307.69231\n",
    "            if iNet[1]*0.005 + tol <= x[0] <= iNet[1]*0.005 + 0.005 + tol and iNet[0]*0.005 + tol <= x[1] <= iNet[0]*0.005 + 0.005 + tol:\n",
    "                value[0] = 39807692307.69231\n",
    "\n",
    "# Initialize kappa\n",
    "lmbda = lmbdaa(degree=0)"
   ]
  },
  {
   "cell_type": "code",
   "execution_count": null,
   "id": "4bd6b908",
   "metadata": {},
   "outputs": [],
   "source": [
    "class cvv(UserExpression):\n",
    "    def eval(self, value, x):\n",
    "        tol = 1E-14\n",
    "        for iNet in range(26):\n",
    "            if matNet[iNet][1]*0.005 + tol <= x[1] <= matNet[iNet][1]*0.005 + 0.005 + tol and matNet[iNet][0]*0.005 + tol <= x[0] <= matNet[iNet][0]*0.005 + 0.005 + tol:\n",
    "                value[0] = [2457000, 4500000][ran[iNet]]\n",
    "            if matNet[iNet][1]*0.005 + tol <= x[0] <= matNet[iNet][1]*0.005 + 0.005 + tol and matNet[iNet][0]*0.005 + tol <= x[1] <= matNet[iNet][0]*0.005 + 0.005 + tol:\n",
    "                value[0] = [2457000, 4500000][ran[iNet]]\n",
    "        for iNet in holeNet:\n",
    "            if iNet[1]*0.005 + tol <= x[1] <= iNet[1]*0.005 + 0.005 + tol and iNet[0]*0.005 + tol <= x[0] <= iNet[0]*0.005 + 0.005 + tol:\n",
    "                value[0] = 2457000\n",
    "            if iNet[1]*0.005 + tol <= x[0] <= iNet[1]*0.005 + 0.005 + tol and iNet[0]*0.005 + tol <= x[1] <= iNet[0]*0.005 + 0.005 + tol:\n",
    "                value[0] = 2457000\n",
    "\n",
    "# Initialize kappa\n",
    "cV = cvv(degree=0)"
   ]
  },
  {
   "cell_type": "code",
   "execution_count": null,
   "id": "68bd11c2",
   "metadata": {},
   "outputs": [],
   "source": [
    "matNet, holeNet = Grid_generate()"
   ]
  },
  {
   "cell_type": "code",
   "execution_count": null,
   "id": "48ecf3de",
   "metadata": {},
   "outputs": [],
   "source": [
    "    scalar = 2.5\n",
    "\n",
    "    # parameters for box\n",
    "    LENGTH  =  20.0e-2/scalar\n",
    "    WIDTH   =  20.0e-2/scalar\n",
    "    HIGHT   =  5.e-2\n",
    "    START_X = -10.0e-2/scalar\n",
    "    START_Y = -10.0e-2/scalar\n",
    "    START_Z = -2.5e-2\n",
    "\n",
    "    # parameters for cylindars (cells)\n",
    "    num_cell_x   =  1\n",
    "    num_cell_y   =  1\n",
    "    num_cells = num_cell_x*num_cell_y\n",
    "    first_cell_x = 0.02\n",
    "    first_cell_y = 0.02\n",
    "    end_cell_x   = 0.02\n",
    "    end_cell_y   = 0.02\n",
    "    x = np.linspace(first_cell_x, end_cell_x, num_cell_x)\n",
    "    y = np.linspace(first_cell_y, end_cell_y, num_cell_y)\n",
    "    xv, yv = np.meshgrid(x, y)\n",
    "    radius       =  0.01\n",
    "    axis_cell    = [0.0, 0.0, HIGHT]\n",
    "    # constants for temperature field\n",
    "    AREA_CYLINDER = 2 * np.pi * radius * HIGHT\n",
    "    AREA_SIDE = WIDTH * HIGHT\n",
    "    POWER = 90.\n",
    "    T_0 = 20.\n",
    "    q = Constant((POWER/AREA_CYLINDER)) # bdry heat flux\n",
    "    DThole = Constant((POWER/AREA_CYLINDER/235))\n",
    "    T0 = Constant(293.)\n",
    "\n",
    "    f_r = Constant((-1.e6/AREA_SIDE, 0.))\n",
    "    f_t = Constant(( 0., -1.e6/AREA_SIDE))\n",
    "    \n",
    "    with pygmsh.occ.Geometry() as geom:\n",
    "        geom.characteristic_length_min = 0.002/scalar\n",
    "        geom.characteristic_length_max = 0.002/scalar\n",
    "        disk_dic = {}\n",
    "        disks = []\n",
    "\n",
    "        rectangle = geom.add_rectangle([START_X, START_Y, 0.], LENGTH, WIDTH)\n",
    "        for i in range(num_cells):\n",
    "            name = 'disk' + str(i)\n",
    "            disk_dic[name] = geom.add_disk([xv.flatten()[i], yv.flatten()[i], 0.], radius)\n",
    "            disks.append(disk_dic[name])\n",
    "\n",
    "        rectangle_1 = geom.add_rectangle([START_X, START_Y, 0.], LENGTH, WIDTH/2)\n",
    "        rectangle_2 = geom.add_rectangle([START_X, 0., 0.], LENGTH/2, WIDTH/2)\n",
    "        #geom.boolean_difference(rectangle, geom.boolean_union([disks, rectangle_1, rectangle_2]))\n",
    "        geom.boolean_difference(rectangle, disks)\n",
    "        geom.boolean_difference(rectangle, rectangle_1)\n",
    "        geom.boolean_difference(rectangle, rectangle_2)\n",
    "\n",
    "\n",
    "        mesh = geom.generate_mesh()\n",
    "        pygmsh.write(\"test_2d.msh\")\n",
    "        mesh.write(\"test_2d.vtk\")\n",
    "    \n",
    "    os.system('gmsh -2 test_2d.msh -format msh2');\n",
    "    os.system('dolfin-convert test_2d.msh mesh_2d.xml');"
   ]
  },
  {
   "cell_type": "code",
   "execution_count": null,
   "id": "816b9347",
   "metadata": {},
   "outputs": [],
   "source": [
    "def fea(Ntime):\n",
    "    mesh = Mesh(\"mesh_2d.xml\")\n",
    "    Vue = VectorElement('CG', mesh.ufl_cell(), 2) # displacement finite element\n",
    "    Vte = FiniteElement('CG', mesh.ufl_cell(), 1) # temperature finite element\n",
    "    V = FunctionSpace(mesh, MixedElement([Vue, Vte]))\n",
    "\n",
    "    def inner_boundary(x, on_boundary):\n",
    "        return near((x[0]-0.02)**2+(x[1]-0.02)**2, radius**2, 1e-5) and on_boundary\n",
    "    def bottom(x, on_boundary):\n",
    "        return near(x[1], 0) and on_boundary\n",
    "    def left(x, on_boundary):\n",
    "        return near(x[0], 0) and on_boundary\n",
    "    def up(x, on_boundary):\n",
    "        return near(x[1], -START_X) and on_boundary\n",
    "    def right(x, on_boundary):\n",
    "        return near(x[0], -START_Y) and on_boundary\n",
    "\n",
    "    bc1 = DirichletBC(V.sub(0).sub(1), Constant(0.), bottom)\n",
    "    bc2 = DirichletBC(V.sub(0).sub(0), Constant(0.), left)\n",
    "    bc3 = DirichletBC(V.sub(1), DThole, inner_boundary)\n",
    "    bc4 = DirichletBC(V.sub(1), Constant(0.), right)\n",
    "    bc5 = DirichletBC(V.sub(1), Constant(0.), up)\n",
    "    bc7 = DirichletBC(V.sub(0).sub(1), Constant(0.), right)\n",
    "    bc8 = DirichletBC(V.sub(0).sub(0), Constant(0.), up)\n",
    "    bcs = [bc1, bc2, bc3, bc4, bc5,bc7,bc8]\n",
    "\n",
    "    class RightBoundary(SubDomain):\n",
    "        def inside(self, x, on_boundary):\n",
    "            return (abs(x[0] + START_X)< DOLFIN_EPS)\n",
    "\n",
    "    class TopBoundary(SubDomain):\n",
    "        def inside(self, x, on_boundary):\n",
    "            return (abs(x[1] + START_Y)< DOLFIN_EPS)\n",
    "\n",
    "\n",
    "    right_edge = RightBoundary()\n",
    "    top_edge = TopBoundary()\n",
    "    \n",
    "    U_ = TestFunction(V)\n",
    "    (u_, Theta_) = split(U_)\n",
    "    dU = TrialFunction(V)\n",
    "    (du, dTheta) = split(dU)\n",
    "    Uold = Function(V)\n",
    "    (uold, Thetaold) = split(Uold)\n",
    "\n",
    "\n",
    "    def eps(v):\n",
    "        return sym(grad(v))\n",
    "\n",
    "\n",
    "    def sigma(v, Theta):\n",
    "        return (lmbda*tr(eps(v)) - kappa*Theta)*Identity(2) + 2*mu*eps(v)\n",
    "\n",
    "\n",
    "    dt = Constant(0.)\n",
    "    mech_form = inner(sigma(du, dTheta), eps(u_))*dx #- (dot(f_r, u_) * dss(10) + dot(f_t, u_) * dss(14) )\n",
    "    #therm_form = (dot(k*grad(dTheta), grad(Theta_)))*dx\n",
    "\n",
    "    therm_form = (cV*(dTheta-Thetaold)/dt*Theta_ + kappa*T0*tr(eps(du-uold))/dt*Theta_ + dot(k*grad(dTheta), grad(Theta_)))*dx\n",
    "    form = mech_form + therm_form\n",
    "    \n",
    "    Nincr = 10\n",
    "    t = [i for i in range(1,7)]\n",
    "    Nx = 100\n",
    "    x = np.linspace(0, 0.04, Nx)\n",
    "    T_res = np.zeros((Nx, len(t)))\n",
    "    U = Function(V)\n",
    "    for (i, dti) in enumerate(np.diff(t)):\n",
    "        dt.assign(dti)\n",
    "        solve(lhs(form) == rhs(form), U, bcs)\n",
    "        Uold.assign(U)\n",
    "        T_res[:, i+1] = [U(xi, 0.01)[2] for xi in x]\n",
    "\n",
    "    u, Theta = split(U)\n",
    "    \n",
    "    points = np.array(matNet)*0.005 + 0.0025\n",
    "    \n",
    "    T_field = []\n",
    "    for i in range(26):\n",
    "        T_field.append(U(points[i])[2])\n",
    "    \n",
    "    d = u.geometric_dimension()\n",
    "    s = sigma(u,Theta) - (1./3)*tr(sigma(u,Theta))*Identity(d)\n",
    "    von_Mises = sqrt(3./2*inner(s, s))\n",
    "    \n",
    "    V = FunctionSpace(mesh, 'P', 1)\n",
    "    von_Mises = project(von_Mises, V)\n",
    "    \n",
    "    S_field = []\n",
    "    for i in range(26):\n",
    "        S_field.append(von_Mises(points[i]))\n",
    "        \n",
    "    return np.array(T_field), np.array(S_field)"
   ]
  },
  {
   "cell_type": "code",
   "execution_count": null,
   "id": "22206c3d",
   "metadata": {},
   "outputs": [],
   "source": [
    "def Sample_gen(sd, NSample):\n",
    "    random.seed(sd)\n",
    "    input_set = np.zeros([NSample,26])\n",
    "    output_T = np.zeros([NSample,26])\n",
    "    output_S = np.zeros([NSample,26])\n",
    "    iNum = 0\n",
    "    while (iNum < NSample):\n",
    "        global ran\n",
    "        ran = Rand_properties()\n",
    "        if ((ran == input_set[:iNum]).all(1).any() == False):\n",
    "            print(iNum)\n",
    "            input_set[iNum] = ran\n",
    "            output_T[iNum], output_S[iNum] = fea(iNum)\n",
    "            iNum += 1\n",
    "    \n",
    "    return input_set, output_T, output_S\n",
    "        "
   ]
  },
  {
   "cell_type": "code",
   "execution_count": null,
   "id": "f3c46f3e",
   "metadata": {
    "scrolled": true
   },
   "outputs": [],
   "source": [
    "input_set, output_T, output_S = Sample_gen(6736, 10000)"
   ]
  },
  {
   "cell_type": "code",
   "execution_count": null,
   "id": "c51e5f66",
   "metadata": {},
   "outputs": [],
   "source": [
    "input_set"
   ]
  },
  {
   "cell_type": "code",
   "execution_count": null,
   "id": "9bbe9799",
   "metadata": {},
   "outputs": [],
   "source": [
    "np.savetxt(\"input.txt\", input_set, fmt='%i', delimiter=\",\")"
   ]
  },
  {
   "cell_type": "code",
   "execution_count": null,
   "id": "d0a45dbf",
   "metadata": {},
   "outputs": [],
   "source": [
    "np.savetxt(\"output_T.txt\", output_T, fmt='%10.3f', delimiter=\",\")"
   ]
  },
  {
   "cell_type": "code",
   "execution_count": null,
   "id": "9027e4fe",
   "metadata": {},
   "outputs": [],
   "source": [
    "np.savetxt(\"output_S.txt\", output_S, fmt='%10.3f', delimiter=\",\")"
   ]
  },
  {
   "cell_type": "code",
   "execution_count": null,
   "id": "71957ba1",
   "metadata": {},
   "outputs": [],
   "source": [
    "def PredSample_gen(sd, input_set, NSample):\n",
    "    random.seed(sd)\n",
    "    predict_set = np.zeros([NSample,26])\n",
    "    iNum = 0\n",
    "    while (iNum < NSample):\n",
    "        ran = Rand_properties()\n",
    "        if ((ran == input_set).all(1).any() == False):\n",
    "            predict_set[iNum] = ran\n",
    "            iNum += 1\n",
    "    return predict_set\n",
    "        "
   ]
  },
  {
   "cell_type": "code",
   "execution_count": null,
   "id": "1d534aed",
   "metadata": {},
   "outputs": [],
   "source": [
    "predict_set = PredSample_gen(6532, input_set, 5)"
   ]
  },
  {
   "cell_type": "code",
   "execution_count": null,
   "id": "c4b680ea",
   "metadata": {},
   "outputs": [],
   "source": [
    "ran = np.array(predict_set[0], dtype = int)"
   ]
  },
  {
   "cell_type": "code",
   "execution_count": null,
   "id": "5a02a5fa",
   "metadata": {},
   "outputs": [],
   "source": [
    "def predict_gen(NSample):\n",
    "    output_T = np.zeros([NSample,26])\n",
    "    output_S = np.zeros([NSample,26])\n",
    "    iNum = 0\n",
    "    while (iNum < NSample):\n",
    "        global ran\n",
    "        ran = np.array(predict_set[iNum], dtype = int)\n",
    "        print(iNum)\n",
    "        input_set[iNum] = ran\n",
    "        output_T[iNum], output_S[iNum] = fea(iNum)\n",
    "        iNum += 1   \n",
    "    return output_T, output_S\n",
    "        "
   ]
  },
  {
   "cell_type": "code",
   "execution_count": null,
   "id": "affd779c",
   "metadata": {},
   "outputs": [],
   "source": [
    "output_T_p, output_S_p = predict_gen(5)"
   ]
  },
  {
   "cell_type": "code",
   "execution_count": null,
   "id": "cc4fd37d",
   "metadata": {},
   "outputs": [],
   "source": [
    "np.savetxt(\"output_T_p.txt\", output_T_p, fmt='%10.3f', delimiter=\",\")"
   ]
  },
  {
   "cell_type": "code",
   "execution_count": null,
   "id": "e2907d16",
   "metadata": {},
   "outputs": [],
   "source": [
    "np.savetxt(\"output_S_p.txt\", output_S_p, fmt='%10.3f', delimiter=\",\")"
   ]
  },
  {
   "cell_type": "code",
   "execution_count": null,
   "id": "dfda22cb",
   "metadata": {},
   "outputs": [],
   "source": [
    "start = time.time()\n",
    "fea(1)\n",
    "print(time.time() - start)"
   ]
  }
 ],
 "metadata": {
  "kernelspec": {
   "display_name": "Python 3 (ipykernel)",
   "language": "python",
   "name": "python3"
  },
  "language_info": {
   "codemirror_mode": {
    "name": "ipython",
    "version": 3
   },
   "file_extension": ".py",
   "mimetype": "text/x-python",
   "name": "python",
   "nbconvert_exporter": "python",
   "pygments_lexer": "ipython3",
   "version": "3.10.6"
  }
 },
 "nbformat": 4,
 "nbformat_minor": 5
}
