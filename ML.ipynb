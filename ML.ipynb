{
 "cells": [
  {
   "cell_type": "code",
   "execution_count": null,
   "id": "85ea2f4c",
   "metadata": {},
   "outputs": [],
   "source": [
    "import os\n",
    "import numpy as np\n",
    "from numpy import random\n",
    "import matplotlib\n",
    "import pandas as pd\n",
    "import pickle\n",
    "import time\n",
    "matplotlib.use('Tkagg')\n",
    "import random as rd\n",
    "from matplotlib import pyplot as plt\n",
    "from keras import metrics"
   ]
  },
  {
   "cell_type": "code",
   "execution_count": null,
   "id": "bc4f63b9",
   "metadata": {},
   "outputs": [],
   "source": [
    "from tensorflow.keras.layers import Dense\n",
    "from tensorflow.keras.layers import BatchNormalization\n",
    "from tensorflow.keras.layers import Flatten\n",
    "import tensorflow as tf\n",
    "#%matplotlib inline \n",
    "#%matplotlib notebook"
   ]
  },
  {
   "cell_type": "code",
   "execution_count": null,
   "id": "1912c776",
   "metadata": {},
   "outputs": [],
   "source": [
    "plt.rc('font', size=14)\n",
    "plt.rc('font', family='Arial')\n",
    "plt.rc('mathtext', fontset='custom')\n",
    "plt.rc('mathtext', rm='Arial')\n",
    "plt.rc('mathtext', sf='Arial')\n",
    "plt.rc('mathtext', it='Arial:italic')\n",
    "plt.rc('mathtext', bf='Arial:bold')\n",
    "plt.rc('lines', linewidth=1)\n",
    "plt.rc('axes', linewidth=2)"
   ]
  },
  {
   "cell_type": "code",
   "execution_count": null,
   "id": "3856e143",
   "metadata": {},
   "outputs": [],
   "source": [
    "input_set = pd.read_csv(\"input.txt\",dtype = np.float32, header = None)"
   ]
  },
  {
   "cell_type": "code",
   "execution_count": null,
   "id": "ba8028d0",
   "metadata": {},
   "outputs": [],
   "source": [
    "output_T = pd.read_csv(\"output_T.txt\",header = None)"
   ]
  },
  {
   "cell_type": "code",
   "execution_count": null,
   "id": "81f0bce5",
   "metadata": {},
   "outputs": [],
   "source": [
    "output_S = pd.read_csv(\"output_S.txt\",header = None)"
   ]
  },
  {
   "cell_type": "code",
   "execution_count": null,
   "id": "062e1218",
   "metadata": {},
   "outputs": [],
   "source": [
    "input_tr = input_set.sample(frac=0.8, random_state=25)\n",
    "input_te = input_set.drop(input_tr.index)"
   ]
  },
  {
   "cell_type": "code",
   "execution_count": null,
   "id": "bfbe8908",
   "metadata": {},
   "outputs": [],
   "source": [
    "output_T_tr = output_T.sample(frac=0.8, random_state=25)\n",
    "output_T_te = output_T.drop(output_T_tr.index)"
   ]
  },
  {
   "cell_type": "code",
   "execution_count": null,
   "id": "67688b34",
   "metadata": {},
   "outputs": [],
   "source": [
    "output_S_tr = output_S.sample(frac=0.8, random_state=25)\n",
    "output_S_te = output_S.drop(output_S_tr.index)"
   ]
  },
  {
   "cell_type": "code",
   "execution_count": null,
   "id": "81ed91e3",
   "metadata": {},
   "outputs": [],
   "source": [
    "### hyperparameter settings and other constants\n",
    "batch_size = 32\n",
    "epochs = 20\n",
    "d1 = 1024\n",
    "d2 = 256\n",
    "alpha_adam = 0.001\n",
    "rho1 = 0.99\n",
    "rho2 = 0.999\n",
    "### end hyperparameter settings\n"
   ]
  },
  {
   "cell_type": "code",
   "execution_count": null,
   "id": "c27642c9",
   "metadata": {},
   "outputs": [],
   "source": [
    "def evaluate_model(Xs, Ys, model):\n",
    "    (loss, accuracy) = model.evaluate(Xs, Ys)\n",
    "    return (loss, accuracy)"
   ]
  },
  {
   "cell_type": "code",
   "execution_count": null,
   "id": "1557cbba",
   "metadata": {},
   "outputs": [],
   "source": [
    "def plot_fig(historysgd1,loss_te_sgd1,accuracy_te_sgd1,name):\n",
    "    matplotlib.rcParams['figure.figsize'] = [12, 4]\n",
    "    fig, axs = plt.subplots(1,2)\n",
    "    axs[0].plot(historysgd1.history['loss'],linewidth = 2)\n",
    "    axs[0].plot(historysgd1.history['val_loss'],linewidth = 2)\n",
    "    axs[0].plot([loss_te_sgd1 for i in range(epochs)],linewidth = 2)\n",
    "    axs[0].title.set_text('Loss')\n",
    "    axs[0].set(xlabel= 'Epochs', ylabel = 'Loss')\n",
    "    axs[0].legend(['Training data', 'Validation data','Test data'])\n",
    "\n",
    "    axs[1].plot(100 - np.array(historysgd1.history['mean_absolute_percentage_error']),linewidth = 2)\n",
    "    axs[1].plot(100 - np.array(historysgd1.history['val_mean_absolute_percentage_error']),linewidth = 2)\n",
    "    axs[1].plot([100 - accuracy_te_sgd1 for i in range(epochs)],linewidth = 2)\n",
    "    axs[1].title.set_text('Accuracy')\n",
    "    axs[1].set(xlabel= 'Epochs', ylabel = 'Accuracy %')\n",
    "    axs[1].legend(['Training data', 'Validation data','Test data'])\n",
    "    plt.tight_layout()\n",
    "    plt.savefig(name,dpi=1000);\n",
    "    plt.show()"
   ]
  },
  {
   "cell_type": "code",
   "execution_count": null,
   "id": "5141c312",
   "metadata": {},
   "outputs": [],
   "source": [
    "def train_fully_connected_adam(Xs, Ys, d1, d2, alpha, rho1, rho2, B, epochs):\n",
    "    n,i = Xs.shape\n",
    "    model = tf.keras.Sequential()\n",
    "    model.add(Dense(26))\n",
    "    model.add(Dense(d1, activation='relu'))\n",
    "    model.add(Dense(d2, activation='relu'))\n",
    "    model.add(Dense(26))\n",
    "    model.compile(loss=tf.keras.losses.MeanSquaredError(), \n",
    "                  optimizer=tf.keras.optimizers.Adam(learning_rate=alpha, beta_1=rho1, beta_2=rho2, epsilon=1e-07), \n",
    "                  metrics=[metrics.mean_absolute_percentage_error])\n",
    "    history = model.fit(Xs, Ys, batch_size=B, epochs=epochs, validation_split=0.1)\n",
    "    return (model, history)"
   ]
  },
  {
   "cell_type": "code",
   "execution_count": null,
   "id": "258e96bd",
   "metadata": {},
   "outputs": [],
   "source": [
    "start = time.time()\n",
    "modeladam, historyadam = train_fully_connected_adam(input_tr, output_T_tr, d1, d2, alpha_adam, rho1, rho2, batch_size, epochs)\n",
    "print(time.time() - start)"
   ]
  },
  {
   "cell_type": "code",
   "execution_count": null,
   "id": "1b35f0ba",
   "metadata": {},
   "outputs": [],
   "source": [
    "loss_te_adam, accuracy_te_adam = evaluate_model(input_te, output_T_te, modeladam)"
   ]
  },
  {
   "cell_type": "code",
   "execution_count": null,
   "id": "43907499",
   "metadata": {},
   "outputs": [],
   "source": [
    "plot_fig(historyadam, loss_te_adam, accuracy_te_adam, name = \"NN_T\")"
   ]
  },
  {
   "cell_type": "code",
   "execution_count": null,
   "id": "7cd7b040",
   "metadata": {},
   "outputs": [],
   "source": [
    "start = time.time()\n",
    "modeladamS, historyadamS = train_fully_connected_adam(input_tr, output_S_tr/1e7, d1, d2, alpha_adam, rho1, rho2, batch_size, epochs)\n",
    "print(time.time() - start)"
   ]
  },
  {
   "cell_type": "code",
   "execution_count": null,
   "id": "062c7a55",
   "metadata": {},
   "outputs": [],
   "source": [
    "loss_te_adamS, accuracy_te_adamS = evaluate_model(input_te, output_S_te/1e7, modeladamS)"
   ]
  },
  {
   "cell_type": "code",
   "execution_count": null,
   "id": "26505c90",
   "metadata": {},
   "outputs": [],
   "source": [
    "plot_fig(historyadamS, loss_te_adamS, accuracy_te_adamS, name = \"NN_S\")"
   ]
  },
  {
   "cell_type": "code",
   "execution_count": null,
   "id": "98c2ed73",
   "metadata": {},
   "outputs": [],
   "source": [
    "def Rand_properties():\n",
    "    matRan = [rd.randint(0,1) for i in range(26)];\n",
    "    return matRan"
   ]
  },
  {
   "cell_type": "code",
   "execution_count": null,
   "id": "51c8ad64",
   "metadata": {},
   "outputs": [],
   "source": [
    "def PredSample_gen(sd, input_set, NSample):\n",
    "    rd.seed(sd)\n",
    "    predict_set = np.zeros([NSample,26])\n",
    "    iNum = 0\n",
    "    while (iNum < NSample):\n",
    "        ran = Rand_properties()\n",
    "        if ((ran == input_set).all(1).any() == False):\n",
    "            predict_set[iNum] = ran\n",
    "            iNum += 1\n",
    "    return predict_set\n",
    "        "
   ]
  },
  {
   "cell_type": "code",
   "execution_count": null,
   "id": "f2d7a592",
   "metadata": {},
   "outputs": [],
   "source": [
    "predict_set = PredSample_gen(6532, input_set, 100000)"
   ]
  },
  {
   "cell_type": "code",
   "execution_count": null,
   "id": "f08fc628",
   "metadata": {},
   "outputs": [],
   "source": [
    "start = time.time()\n",
    "p  = modeladam.predict(predict_set)\n",
    "print(time.time() - start)"
   ]
  },
  {
   "cell_type": "code",
   "execution_count": null,
   "id": "52cdcfd3",
   "metadata": {},
   "outputs": [],
   "source": [
    "start = time.time()\n",
    "pS  = modeladamS.predict(predict_set)\n",
    "print(time.time() - start)"
   ]
  },
  {
   "cell_type": "code",
   "execution_count": null,
   "id": "86e95e71",
   "metadata": {},
   "outputs": [],
   "source": [
    "output_T_p = pd.read_csv(\"output_T_p.txt\",header = None)"
   ]
  },
  {
   "cell_type": "code",
   "execution_count": null,
   "id": "b7050e53",
   "metadata": {},
   "outputs": [],
   "source": [
    "output_S_p = pd.read_csv(\"output_S_p.txt\",header = None)"
   ]
  },
  {
   "cell_type": "code",
   "execution_count": null,
   "id": "a0ed1b16",
   "metadata": {},
   "outputs": [],
   "source": [
    "color = [\"red\", \"blue\", \"cyan\", \"purple\", \"green\"]\n",
    "label = [\"New 1\",\"New 2\",\"New 3\",\"New 4\",\"New 5\"]\n",
    "fig, axs = plt.subplots(1,2)\n",
    "for i in range(5):\n",
    "    #axs[0].scatter(np.arange(1,27), output_T_p.T[i], marker = \".\", edgecolor = \"black\", color = color[i], label = label[i])\n",
    "    #axs[0].scatter(np.arange(1,27),p[:5][i], marker = \"*\", edgecolor = \"black\",alpha = 0.5, color = color[i])\n",
    "    axs[1].scatter(np.arange(1,27),output_S_p.T[i], edgecolor = \"black\",marker = \".\", color = color[i], label = label[i])\n",
    "    axs[1].scatter(np.arange(1,27),(pS[:5]*1e7)[i], edgecolor = \"black\",marker = \"*\", alpha = 0.5, color = color[i])\n",
    "#axs[1].legend(ncol = 5, bbox_to_anchor=(0., 1.2))\n",
    "axs[0].scatter(np.arange(1,27), output_T_p.T[i], marker = \".\", edgecolor = \"black\", color = \"black\", label = \"FEA\")\n",
    "axs[0].scatter(np.arange(1,27),p[:5][i], marker = \"*\", edgecolor = \"black\",alpha = 0.5, color = \"black\", label = \"DNN\")\n",
    "axs[0].legend(ncol = 5, bbox_to_anchor=(1.0, 1.2))\n",
    "plt.tight_layout()\n",
    "plt.savefig(\"pre_legend2.png\",dpi=1000);\n",
    "plt.show()"
   ]
  }
 ],
 "metadata": {
  "kernelspec": {
   "display_name": "Python 3",
   "language": "python",
   "name": "python3"
  },
  "language_info": {
   "codemirror_mode": {
    "name": "ipython",
    "version": 3
   },
   "file_extension": ".py",
   "mimetype": "text/x-python",
   "name": "python",
   "nbconvert_exporter": "python",
   "pygments_lexer": "ipython3",
   "version": "3.9.7"
  }
 },
 "nbformat": 4,
 "nbformat_minor": 5
}
